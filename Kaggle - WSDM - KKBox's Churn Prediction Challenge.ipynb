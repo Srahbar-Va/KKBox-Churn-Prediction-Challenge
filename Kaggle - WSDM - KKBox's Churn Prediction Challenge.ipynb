{
 "cells": [
  {
   "cell_type": "markdown",
   "metadata": {},
   "source": [
    "# \"WSDM - KKBox's Churn Prediction Challenge\" - Kaggle"
   ]
  },
  {
   "cell_type": "markdown",
   "metadata": {},
   "source": [
    "In this challenge, you are asked to predict whether a user will churn after his/her subscription expires. Specifically, we want to forecast if a user make a new service subscription transaction within 30 days after the current membership expiration date.\n",
    "\n",
    "KKBOX offers subscription based music streaming service. When users signs up for our service, users can choose to either manual renew or auto-renew the service. Users can actively cancel their membership at any time.\n",
    "\n",
    "The churn/renewal definition can be tricky due to KKBox's subscription model. Since the majority of KKBox's subscription length is 30 days, a lot of users re-subscribe every month. The key fields to determine churn/renewal are transaction date, membership expiration date, and is_cancel. Note that the is_cancel field indicates whether a user actively cancels a subscription. Subscription cancellation does not imply the user has churned. A user may cancel service subscription due to change of service plans or other reasons. The criteria of \"churn\" is no new valid service subscription within 30 days after the current membership expires.\n",
    "\n",
    "UPDATE: As of November 6, 2017, we have refreshed the test data to predict user churn in the month of April, 2017\n",
    "\n",
    "The training and the test data are selected from users whose membership expire within a certain month. The train data consists of users whose subscription expires within the month of February 2017, and the test data is with users whose subscription expires within the month of March 2017. This means we are looking at user churn or renewal roughly in the month of March 2017 for train set, and the user churn or renewal roughly in the month of April 2017. Train and test sets are split by transaction date, as well as the public and private leaderboard data.\n",
    "\n",
    "$\\textit{Reference - https://www.kaggle.com/c/kkbox-churn-prediction-challenge/data}$"
   ]
  },
  {
   "cell_type": "markdown",
   "metadata": {},
   "source": [
    "      ________________________________________________________________________________"
   ]
  },
  {
   "cell_type": "markdown",
   "metadata": {},
   "source": [
    "$\\textbf{Imprtant notes - Guides}$:\n",
    "\n",
    "$\\textbf{1}$- The churn/renewal definition can be tricky due to KKBox's subscription model. Since the majority of KKBox's subscription length is 30 days, a lot of users re-subscribe every month.\n",
    "\n",
    "$\\textbf{2}$- The key fields to determine churn/renewal are transaction date, membership expiration date, and is_cancel. Note that the is_cancel field indicates whether a user actively cancels a subscription. \n",
    "\n",
    "$\\textbf{3}$- The criteria of \"churn\" is no new valid service subscription within 30 days after the current membership expires.\n",
    "\n",
    "\n",
    "$\\textbf{Important notes - Test and Training sets}$\n",
    "\n",
    "$\\textbf{1}$- The training and the test data are selected from users whose membership expire within a certain month. The train data consists of users whose subscription expires within the month of February 2017, and the test data is with users whose subscription expires within the month of March 2017. This means we are looking at user churn or renewal roughly in the month of March 2017 for train set, and the user churn or renewal roughly in the month of April 2017. \n",
    "\n",
    "$\\textbf{2}$-Train and test sets are split by transaction date, as well as the public and private leaderboard data.\n",
    "\n",
    "\n",
    "$\\textbf{3}$- The data sets exist in different form of csv files.\n"
   ]
  },
  {
   "cell_type": "markdown",
   "metadata": {},
   "source": [
    "\n",
    "$\\textit{Developer Environment}$:\n",
    "\n",
    "    Python3\n",
    "        - Pandas package\n",
    "        - Numpy  package\n",
    "        - Matplotlib package\n",
    "        - Seaborn (Optional - Betetr visualizations)\n",
    "        \n",
    "        \n",
    "$\\textit{Name of the datasets}$:\n",
    "        - train.csv\n",
    "        - train_V2.csv\n",
    "        - Sample_submission_zero.csv\n",
    "        - Transactions.csv\n",
    "        - Transactions_V2.csv\n",
    "        - User_logs.csv\n",
    "        - User_logs_V2.csv\n",
    "    "
   ]
  },
  {
   "cell_type": "markdown",
   "metadata": {},
   "source": [
    "$\\textit{Some stuff to be careful about}$:\n",
    "\n",
    "    1-  We have to deal with some time-series data\n",
    "    2-  We have differet types of data in the datasets including but not limnitd to, categorical, numerical"
   ]
  },
  {
   "cell_type": "code",
   "execution_count": null,
   "metadata": {},
   "outputs": [],
   "source": []
  },
  {
   "cell_type": "code",
   "execution_count": null,
   "metadata": {},
   "outputs": [],
   "source": []
  },
  {
   "cell_type": "code",
   "execution_count": null,
   "metadata": {},
   "outputs": [],
   "source": []
  },
  {
   "cell_type": "code",
   "execution_count": null,
   "metadata": {},
   "outputs": [],
   "source": []
  }
 ],
 "metadata": {
  "kernelspec": {
   "display_name": "Python 3",
   "language": "python",
   "name": "python3"
  },
  "language_info": {
   "codemirror_mode": {
    "name": "ipython",
    "version": 3
   },
   "file_extension": ".py",
   "mimetype": "text/x-python",
   "name": "python",
   "nbconvert_exporter": "python",
   "pygments_lexer": "ipython3",
   "version": "3.7.2"
  }
 },
 "nbformat": 4,
 "nbformat_minor": 2
}
